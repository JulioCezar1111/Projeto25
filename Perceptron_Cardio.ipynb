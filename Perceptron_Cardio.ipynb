{
  "nbformat": 4,
  "nbformat_minor": 0,
  "metadata": {
    "colab": {
      "name": "Perceptron_Cardio.ipynb",
      "provenance": [],
      "collapsed_sections": [],
      "authorship_tag": "ABX9TyMGin5Q+7KZ84juItqwGCTQ",
      "include_colab_link": true
    },
    "kernelspec": {
      "name": "python3",
      "display_name": "Python 3"
    },
    "language_info": {
      "name": "python"
    }
  },
  "cells": [
    {
      "cell_type": "markdown",
      "metadata": {
        "id": "view-in-github",
        "colab_type": "text"
      },
      "source": [
        "<a href=\"https://colab.research.google.com/github/JulioCezar1111/Projeto25/blob/main/Perceptron_Cardio.ipynb\" target=\"_parent\"><img src=\"https://colab.research.google.com/assets/colab-badge.svg\" alt=\"Open In Colab\"/></a>"
      ]
    },
    {
      "cell_type": "markdown",
      "source": [
        "# **Bibliotecas**"
      ],
      "metadata": {
        "id": "bcHM0UXuLBHi"
      }
    },
    {
      "cell_type": "code",
      "execution_count": null,
      "metadata": {
        "id": "jOr104T1K8k9"
      },
      "outputs": [],
      "source": [
        "from IPython.display import Image\n",
        "from six import StringIO\n",
        "from sklearn.tree import DecisionTreeClassifier, export_graphviz # Para arvore de decisão\n",
        "from sklearn.preprocessing import StandardScaler\n",
        "from sklearn.preprocessing import LabelEncoder\n",
        "from sklearn.preprocessing import OneHotEncoder\n",
        "from sklearn.linear_model import Perceptron\n",
        "from sklearn.model_selection import train_test_split\n",
        "from sklearn.metrics import accuracy_score\n",
        "from sklearn.metrics import confusion_matrix\n",
        "from sklearn.metrics import plot_confusion_matrix\n",
        "from sklearn.metrics import classification_report\n",
        "import numpy as np\n",
        "import pandas as pd\n",
        "import matplotlib.pyplot as plt\n",
        "import matplotlib.image as mpimg\n",
        "import itertools\n",
        "import pydotplus\n",
        "import torch"
      ]
    },
    {
      "cell_type": "markdown",
      "source": [
        "# **Importar dataset**"
      ],
      "metadata": {
        "id": "WrRO0A1jLOHo"
      }
    },
    {
      "cell_type": "code",
      "source": [
        "!pip3 install wget\n",
        "!wget https://raw.githubusercontent.com/lucaslattari/neural-network-series/main/05/cardio.csv"
      ],
      "metadata": {
        "colab": {
          "base_uri": "https://localhost:8080/"
        },
        "id": "OLd5Vw6FLR6j",
        "outputId": "2dfe7401-f9d3-4b7b-8dd2-478c7189f11a"
      },
      "execution_count": null,
      "outputs": [
        {
          "output_type": "stream",
          "name": "stdout",
          "text": [
            "Looking in indexes: https://pypi.org/simple, https://us-python.pkg.dev/colab-wheels/public/simple/\n",
            "Requirement already satisfied: wget in /usr/local/lib/python3.7/dist-packages (3.2)\n",
            "--2022-06-12 18:41:04--  https://raw.githubusercontent.com/lucaslattari/neural-network-series/main/05/cardio.csv\n",
            "Resolving raw.githubusercontent.com (raw.githubusercontent.com)... 185.199.108.133, 185.199.109.133, 185.199.110.133, ...\n",
            "Connecting to raw.githubusercontent.com (raw.githubusercontent.com)|185.199.108.133|:443... connected.\n",
            "HTTP request sent, awaiting response... 200 OK\n",
            "Length: 2941524 (2.8M) [text/plain]\n",
            "Saving to: ‘cardio.csv.1’\n",
            "\n",
            "cardio.csv.1        100%[===================>]   2.80M  --.-KB/s    in 0.07s   \n",
            "\n",
            "2022-06-12 18:41:05 (42.3 MB/s) - ‘cardio.csv.1’ saved [2941524/2941524]\n",
            "\n"
          ]
        }
      ]
    },
    {
      "cell_type": "markdown",
      "source": [
        "# **Tratamento da base de dados**"
      ],
      "metadata": {
        "id": "x-uH6-GKLewq"
      }
    },
    {
      "cell_type": "code",
      "source": [
        "df = pd.read_csv('/content/cardio.csv', sep = ';')\n",
        "df = df.iloc[:, 1:]\n",
        "\n",
        "X = df.iloc[:, :-1]\n",
        "y = df.iloc[:, -1:]\n",
        "\n",
        "print(len(X))"
      ],
      "metadata": {
        "colab": {
          "base_uri": "https://localhost:8080/"
        },
        "id": "icvwABJ1Lje5",
        "outputId": "bc14e8ec-a8c8-4f05-8955-9bdc99e2748b"
      },
      "execution_count": null,
      "outputs": [
        {
          "output_type": "stream",
          "name": "stdout",
          "text": [
            "70000\n"
          ]
        }
      ]
    },
    {
      "cell_type": "markdown",
      "source": [
        "# **Dividir dataset de treino e teste**"
      ],
      "metadata": {
        "id": "X0hSq3SqL5y0"
      }
    },
    {
      "cell_type": "code",
      "source": [
        "X_train, X_test, y_train, y_test = train_test_split(X, y, test_size = 0.2)\n",
        "\n",
        "sc = StandardScaler()\n",
        "sc.fit(X_train)\n",
        "\n",
        "X_train_scaled = sc.transform(X_train.values)\n",
        "X_test_scaled = sc.transform(X_test.values)"
      ],
      "metadata": {
        "colab": {
          "base_uri": "https://localhost:8080/"
        },
        "id": "LT-ayQ5HMBsh",
        "outputId": "13057e65-f150-4a1b-fc3e-18cef713b496"
      },
      "execution_count": null,
      "outputs": [
        {
          "output_type": "stream",
          "name": "stderr",
          "text": [
            "/usr/local/lib/python3.7/dist-packages/sklearn/base.py:451: UserWarning: X does not have valid feature names, but StandardScaler was fitted with feature names\n",
            "  \"X does not have valid feature names, but\"\n",
            "/usr/local/lib/python3.7/dist-packages/sklearn/base.py:451: UserWarning: X does not have valid feature names, but StandardScaler was fitted with feature names\n",
            "  \"X does not have valid feature names, but\"\n"
          ]
        }
      ]
    },
    {
      "cell_type": "markdown",
      "source": [
        "# **Perceptron**"
      ],
      "metadata": {
        "id": "j1wgsVYgOGTu"
      }
    },
    {
      "cell_type": "code",
      "source": [
        "ppn = Perceptron(max_iter=1000, eta0=0.1, random_state=0)\n",
        "ppn.fit(X_train, y_train.values.ravel())"
      ],
      "metadata": {
        "colab": {
          "base_uri": "https://localhost:8080/"
        },
        "id": "_GMF01kQOI7k",
        "outputId": "b9173e7a-a171-484a-be5c-32a9d7139c83"
      },
      "execution_count": null,
      "outputs": [
        {
          "output_type": "execute_result",
          "data": {
            "text/plain": [
              "Perceptron(eta0=0.1)"
            ]
          },
          "metadata": {},
          "execution_count": 25
        }
      ]
    },
    {
      "cell_type": "markdown",
      "source": [
        "# **Testar modelo**"
      ],
      "metadata": {
        "id": "IMANqWaXOMsz"
      }
    },
    {
      "cell_type": "code",
      "source": [
        "y_pred = ppn.predict(X_test)"
      ],
      "metadata": {
        "id": "4RV3ozFmOTTY"
      },
      "execution_count": null,
      "outputs": []
    },
    {
      "cell_type": "markdown",
      "source": [
        "# **Avaliação do modelo**"
      ],
      "metadata": {
        "id": "J-EqsLplP0Hm"
      }
    },
    {
      "cell_type": "code",
      "source": [
        "confusion_matrix(y_test, y_pred)\n",
        "\n",
        "plot_confusion_matrix(ppn, X_test, y_test) \n",
        "\n",
        "accuracy_score(y_test, y_pred)"
      ],
      "metadata": {
        "colab": {
          "base_uri": "https://localhost:8080/",
          "height": 354
        },
        "id": "h9_-Y0-iP3hN",
        "outputId": "f190b8c1-56cb-4aec-9be6-65b5456394ac"
      },
      "execution_count": null,
      "outputs": [
        {
          "output_type": "stream",
          "name": "stderr",
          "text": [
            "/usr/local/lib/python3.7/dist-packages/sklearn/utils/deprecation.py:87: FutureWarning: Function plot_confusion_matrix is deprecated; Function `plot_confusion_matrix` is deprecated in 1.0 and will be removed in 1.2. Use one of the class methods: ConfusionMatrixDisplay.from_predictions or ConfusionMatrixDisplay.from_estimator.\n",
            "  warnings.warn(msg, category=FutureWarning)\n"
          ]
        },
        {
          "output_type": "execute_result",
          "data": {
            "text/plain": [
              "0.5037857142857143"
            ]
          },
          "metadata": {},
          "execution_count": 28
        },
        {
          "output_type": "display_data",
          "data": {
            "text/plain": [
              "<Figure size 432x288 with 2 Axes>"
            ],
            "image/png": "[encoded data removed]"
          },
          "metadata": {
            "needs_background": "light"
          }
        }
      ]
    },
    {
      "cell_type": "markdown",
      "source": [
        "# **Multicamadas perceptron**"
      ],
      "metadata": {
        "id": "t4-LEXW4QJO4"
      }
    },
    {
      "cell_type": "code",
      "source": [
        "import tensorflow as tf\n",
        "from tensorflow import keras\n",
        "from tensorflow.keras import layers\n",
        "import random as python_random\n",
        "\n",
        "SEED = 0\n",
        "\n",
        "np.random.seed(SEED)\n",
        "python_random.seed(SEED)\n",
        "tf.random.set_seed(SEED)\n",
        "ann = keras.Sequential()\n",
        "ann.add(layers.Dense(6, activation='relu'))\n",
        "ann.add(layers.Dense(1, activation='sigmoid'))\n",
        "\n",
        "ann.compile(optimizer='adam', loss='binary_crossentropy', metrics=['accuracy'])\n",
        "#mencionar que o adam é um stochastic gradient-based optimizer proposed by Kingma, Diederik, and Jimmy Ba\n",
        "\n",
        "history = ann.fit(X_train, y_train, batch_size = 128, epochs = 100)"
      ],
      "metadata": {
        "colab": {
          "base_uri": "https://localhost:8080/"
        },
        "id": "VN7oIrPFQQJE",
        "outputId": "48937a45-7abf-4347-e93c-efbd65168161"
      },
      "execution_count": null,
      "outputs": [
        {
          "output_type": "stream",
          "name": "stdout",
          "text": [
            "Epoch 1/100\n",
            "438/438 [==============================] - 3s 3ms/step - loss: 49.8859 - accuracy: 0.4972\n",
            "Epoch 2/100\n",
            "438/438 [==============================] - 1s 3ms/step - loss: 0.7886 - accuracy: 0.5060\n",
            "Epoch 3/100\n",
            "438/438 [==============================] - 1s 3ms/step - loss: 0.7870 - accuracy: 0.5008\n",
            "Epoch 4/100\n",
            "438/438 [==============================] - 2s 4ms/step - loss: 0.7702 - accuracy: 0.5025\n",
            "Epoch 5/100\n",
            "438/438 [==============================] - 1s 3ms/step - loss: 0.7663 - accuracy: 0.5065\n",
            "Epoch 6/100\n",
            "438/438 [==============================] - 1s 3ms/step - loss: 0.7643 - accuracy: 0.5000\n",
            "Epoch 7/100\n",
            "438/438 [==============================] - 1s 3ms/step - loss: 0.7484 - accuracy: 0.5106\n",
            "Epoch 8/100\n",
            "438/438 [==============================] - 1s 3ms/step - loss: 0.7400 - accuracy: 0.5096\n",
            "Epoch 9/100\n",
            "438/438 [==============================] - 1s 3ms/step - loss: 0.7361 - accuracy: 0.5090\n",
            "Epoch 10/100\n",
            "438/438 [==============================] - 1s 3ms/step - loss: 0.7197 - accuracy: 0.5104\n",
            "Epoch 11/100\n",
            "438/438 [==============================] - 1s 3ms/step - loss: 0.7151 - accuracy: 0.5111\n",
            "Epoch 12/100\n",
            "438/438 [==============================] - 1s 3ms/step - loss: 0.7149 - accuracy: 0.5089\n",
            "Epoch 13/100\n",
            "438/438 [==============================] - 1s 3ms/step - loss: 0.7056 - accuracy: 0.5146\n",
            "Epoch 14/100\n",
            "438/438 [==============================] - 1s 3ms/step - loss: 0.7073 - accuracy: 0.5234\n",
            "Epoch 15/100\n",
            "438/438 [==============================] - 1s 3ms/step - loss: 0.7031 - accuracy: 0.5252\n",
            "Epoch 16/100\n",
            "438/438 [==============================] - 1s 3ms/step - loss: 0.6917 - accuracy: 0.5331\n",
            "Epoch 17/100\n",
            "438/438 [==============================] - 1s 3ms/step - loss: 0.6931 - accuracy: 0.5299\n",
            "Epoch 18/100\n",
            "438/438 [==============================] - 1s 3ms/step - loss: 0.6921 - accuracy: 0.5378\n",
            "Epoch 19/100\n",
            "438/438 [==============================] - 1s 3ms/step - loss: 0.6838 - accuracy: 0.5559\n",
            "Epoch 20/100\n",
            "438/438 [==============================] - 1s 3ms/step - loss: 0.6800 - accuracy: 0.5766\n",
            "Epoch 21/100\n",
            "438/438 [==============================] - 1s 3ms/step - loss: 0.6749 - accuracy: 0.6015\n",
            "Epoch 22/100\n",
            "438/438 [==============================] - 1s 3ms/step - loss: 0.6713 - accuracy: 0.6123\n",
            "Epoch 23/100\n",
            "438/438 [==============================] - 1s 3ms/step - loss: 0.6663 - accuracy: 0.6278\n",
            "Epoch 24/100\n",
            "438/438 [==============================] - 1s 3ms/step - loss: 0.6581 - accuracy: 0.6481\n",
            "Epoch 25/100\n",
            "438/438 [==============================] - 1s 3ms/step - loss: 0.6485 - accuracy: 0.6543\n",
            "Epoch 26/100\n",
            "438/438 [==============================] - 1s 3ms/step - loss: 0.6346 - accuracy: 0.6707\n",
            "Epoch 27/100\n",
            "438/438 [==============================] - 2s 4ms/step - loss: 0.6253 - accuracy: 0.6774\n",
            "Epoch 28/100\n",
            "438/438 [==============================] - 1s 3ms/step - loss: 0.6180 - accuracy: 0.6877\n",
            "Epoch 29/100\n",
            "438/438 [==============================] - 1s 3ms/step - loss: 0.6166 - accuracy: 0.6882\n",
            "Epoch 30/100\n",
            "438/438 [==============================] - 2s 4ms/step - loss: 0.6149 - accuracy: 0.6923\n",
            "Epoch 31/100\n",
            "438/438 [==============================] - 2s 5ms/step - loss: 0.6154 - accuracy: 0.6912\n",
            "Epoch 32/100\n",
            "438/438 [==============================] - 1s 3ms/step - loss: 0.6116 - accuracy: 0.6984\n",
            "Epoch 33/100\n",
            "438/438 [==============================] - 1s 3ms/step - loss: 0.6129 - accuracy: 0.6961\n",
            "Epoch 34/100\n",
            "438/438 [==============================] - 2s 4ms/step - loss: 0.6128 - accuracy: 0.6982\n",
            "Epoch 35/100\n",
            "438/438 [==============================] - 2s 5ms/step - loss: 0.6124 - accuracy: 0.6993\n",
            "Epoch 36/100\n",
            "438/438 [==============================] - 1s 3ms/step - loss: 0.6108 - accuracy: 0.6997\n",
            "Epoch 37/100\n",
            "438/438 [==============================] - 2s 4ms/step - loss: 0.6130 - accuracy: 0.6977\n",
            "Epoch 38/100\n",
            "438/438 [==============================] - 2s 4ms/step - loss: 0.6142 - accuracy: 0.6974\n",
            "Epoch 39/100\n",
            "438/438 [==============================] - 1s 3ms/step - loss: 0.6117 - accuracy: 0.6983\n",
            "Epoch 40/100\n",
            "438/438 [==============================] - 2s 4ms/step - loss: 0.6130 - accuracy: 0.6974\n",
            "Epoch 41/100\n",
            "438/438 [==============================] - 1s 3ms/step - loss: 0.6116 - accuracy: 0.6999\n",
            "Epoch 42/100\n",
            "438/438 [==============================] - 2s 4ms/step - loss: 0.6109 - accuracy: 0.7016\n",
            "Epoch 43/100\n",
            "438/438 [==============================] - 2s 5ms/step - loss: 0.6161 - accuracy: 0.6930\n",
            "Epoch 44/100\n",
            "438/438 [==============================] - 2s 4ms/step - loss: 0.6122 - accuracy: 0.6969\n",
            "Epoch 45/100\n",
            "438/438 [==============================] - 2s 4ms/step - loss: 0.6113 - accuracy: 0.7005\n",
            "Epoch 46/100\n",
            "438/438 [==============================] - 2s 4ms/step - loss: 0.6101 - accuracy: 0.7038\n",
            "Epoch 47/100\n",
            "438/438 [==============================] - 2s 5ms/step - loss: 0.6138 - accuracy: 0.6976\n",
            "Epoch 48/100\n",
            "438/438 [==============================] - 1s 3ms/step - loss: 0.6101 - accuracy: 0.7000\n",
            "Epoch 49/100\n",
            "438/438 [==============================] - 1s 3ms/step - loss: 0.6120 - accuracy: 0.6996\n",
            "Epoch 50/100\n",
            "438/438 [==============================] - 1s 3ms/step - loss: 0.6145 - accuracy: 0.6973\n",
            "Epoch 51/100\n",
            "438/438 [==============================] - 1s 3ms/step - loss: 0.6109 - accuracy: 0.6995\n",
            "Epoch 52/100\n",
            "438/438 [==============================] - 1s 3ms/step - loss: 0.6095 - accuracy: 0.7028\n",
            "Epoch 53/100\n",
            "438/438 [==============================] - 1s 3ms/step - loss: 0.6119 - accuracy: 0.7019\n",
            "Epoch 54/100\n",
            "438/438 [==============================] - 1s 3ms/step - loss: 0.6115 - accuracy: 0.7003\n",
            "Epoch 55/100\n",
            "438/438 [==============================] - 1s 3ms/step - loss: 0.6117 - accuracy: 0.6991\n",
            "Epoch 56/100\n",
            "438/438 [==============================] - 2s 4ms/step - loss: 0.6105 - accuracy: 0.7006\n",
            "Epoch 57/100\n",
            "438/438 [==============================] - 2s 3ms/step - loss: 0.6104 - accuracy: 0.7015\n",
            "Epoch 58/100\n",
            "438/438 [==============================] - 1s 3ms/step - loss: 0.6122 - accuracy: 0.6981\n",
            "Epoch 59/100\n",
            "438/438 [==============================] - 2s 4ms/step - loss: 0.6101 - accuracy: 0.7012\n",
            "Epoch 60/100\n",
            "438/438 [==============================] - 1s 2ms/step - loss: 0.6087 - accuracy: 0.7042\n",
            "Epoch 61/100\n",
            "438/438 [==============================] - 1s 2ms/step - loss: 0.6093 - accuracy: 0.7032\n",
            "Epoch 62/100\n",
            "438/438 [==============================] - 1s 2ms/step - loss: 0.6098 - accuracy: 0.7028\n",
            "Epoch 63/100\n",
            "438/438 [==============================] - 1s 2ms/step - loss: 0.6106 - accuracy: 0.7015\n",
            "Epoch 64/100\n",
            "438/438 [==============================] - 1s 2ms/step - loss: 0.6104 - accuracy: 0.7025\n",
            "Epoch 65/100\n",
            "438/438 [==============================] - 1s 2ms/step - loss: 0.6103 - accuracy: 0.7022\n",
            "Epoch 66/100\n",
            "438/438 [==============================] - 1s 2ms/step - loss: 0.6113 - accuracy: 0.7011\n",
            "Epoch 67/100\n",
            "438/438 [==============================] - 1s 2ms/step - loss: 0.6094 - accuracy: 0.7029\n",
            "Epoch 68/100\n",
            "438/438 [==============================] - 1s 2ms/step - loss: 0.6092 - accuracy: 0.7033\n",
            "Epoch 69/100\n",
            "438/438 [==============================] - 1s 2ms/step - loss: 0.6098 - accuracy: 0.6986\n",
            "Epoch 70/100\n",
            "438/438 [==============================] - 1s 2ms/step - loss: 0.6093 - accuracy: 0.7032\n",
            "Epoch 71/100\n",
            "438/438 [==============================] - 1s 2ms/step - loss: 0.6101 - accuracy: 0.6999\n",
            "Epoch 72/100\n",
            "438/438 [==============================] - 1s 2ms/step - loss: 0.6098 - accuracy: 0.6996\n",
            "Epoch 73/100\n",
            "438/438 [==============================] - 1s 2ms/step - loss: 0.6094 - accuracy: 0.7016\n",
            "Epoch 74/100\n",
            "438/438 [==============================] - 1s 2ms/step - loss: 0.6089 - accuracy: 0.7030\n",
            "Epoch 75/100\n",
            "438/438 [==============================] - 1s 2ms/step - loss: 0.6092 - accuracy: 0.7046\n",
            "Epoch 76/100\n",
            "438/438 [==============================] - 1s 3ms/step - loss: 0.6102 - accuracy: 0.7015\n",
            "Epoch 77/100\n",
            "438/438 [==============================] - 1s 3ms/step - loss: 0.6090 - accuracy: 0.7035\n",
            "Epoch 78/100\n",
            "438/438 [==============================] - 1s 3ms/step - loss: 0.6073 - accuracy: 0.7062\n",
            "Epoch 79/100\n",
            "438/438 [==============================] - 1s 3ms/step - loss: 0.6079 - accuracy: 0.7014\n",
            "Epoch 80/100\n",
            "438/438 [==============================] - 1s 3ms/step - loss: 0.6074 - accuracy: 0.7049\n",
            "Epoch 81/100\n",
            "438/438 [==============================] - 1s 2ms/step - loss: 0.6084 - accuracy: 0.7030\n",
            "Epoch 82/100\n",
            "438/438 [==============================] - 1s 2ms/step - loss: 0.6088 - accuracy: 0.7036\n",
            "Epoch 83/100\n",
            "438/438 [==============================] - 2s 4ms/step - loss: 0.6102 - accuracy: 0.7012\n",
            "Epoch 84/100\n",
            "438/438 [==============================] - 2s 4ms/step - loss: 0.6091 - accuracy: 0.7057\n",
            "Epoch 85/100\n",
            "438/438 [==============================] - 2s 4ms/step - loss: 0.6072 - accuracy: 0.7063\n",
            "Epoch 86/100\n",
            "438/438 [==============================] - 1s 2ms/step - loss: 0.6093 - accuracy: 0.7023\n",
            "Epoch 87/100\n",
            "438/438 [==============================] - 1s 2ms/step - loss: 0.6103 - accuracy: 0.7028\n",
            "Epoch 88/100\n",
            "438/438 [==============================] - 1s 2ms/step - loss: 0.6100 - accuracy: 0.7025\n",
            "Epoch 89/100\n",
            "438/438 [==============================] - 1s 2ms/step - loss: 0.6077 - accuracy: 0.7049\n",
            "Epoch 90/100\n",
            "438/438 [==============================] - 1s 2ms/step - loss: 0.6086 - accuracy: 0.7014\n",
            "Epoch 91/100\n",
            "438/438 [==============================] - 1s 2ms/step - loss: 0.6084 - accuracy: 0.7041\n",
            "Epoch 92/100\n",
            "438/438 [==============================] - 1s 2ms/step - loss: 0.6080 - accuracy: 0.7055\n",
            "Epoch 93/100\n",
            "438/438 [==============================] - 1s 2ms/step - loss: 0.6100 - accuracy: 0.7021\n",
            "Epoch 94/100\n",
            "438/438 [==============================] - 1s 2ms/step - loss: 0.6086 - accuracy: 0.7035\n",
            "Epoch 95/100\n",
            "438/438 [==============================] - 1s 2ms/step - loss: 0.6096 - accuracy: 0.7008\n",
            "Epoch 96/100\n",
            "438/438 [==============================] - 1s 2ms/step - loss: 0.6065 - accuracy: 0.7070\n",
            "Epoch 97/100\n",
            "438/438 [==============================] - 1s 2ms/step - loss: 0.6082 - accuracy: 0.7042\n",
            "Epoch 98/100\n",
            "438/438 [==============================] - 1s 2ms/step - loss: 0.6081 - accuracy: 0.7041\n",
            "Epoch 99/100\n",
            "438/438 [==============================] - 1s 2ms/step - loss: 0.6072 - accuracy: 0.7042\n",
            "Epoch 100/100\n",
            "438/438 [==============================] - 1s 2ms/step - loss: 0.6098 - accuracy: 0.7030\n"
          ]
        }
      ]
    },
    {
      "cell_type": "code",
      "source": [
        "y_pred = ann.predict(X_test)\n",
        "y_pred = (y_pred > 0.5)\n",
        "print(confusion_matrix(y_test, y_pred))\n",
        "\n",
        "accuracy_score(y_test, y_pred)\n"
      ],
      "metadata": {
        "colab": {
          "base_uri": "https://localhost:8080/"
        },
        "id": "BQUawryyQU4d",
        "outputId": "1543f9fb-ea76-4312-b9d1-ffe6231e81f4"
      },
      "execution_count": null,
      "outputs": [
        {
          "output_type": "stream",
          "name": "stdout",
          "text": [
            "[[6182  772]\n",
            " [3731 3315]]\n"
          ]
        },
        {
          "output_type": "execute_result",
          "data": {
            "text/plain": [
              "0.6783571428571429"
            ]
          },
          "metadata": {},
          "execution_count": 35
        }
      ]
    }
  ]
}